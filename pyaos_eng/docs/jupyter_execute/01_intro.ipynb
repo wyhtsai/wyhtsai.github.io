{
 "cells": [
  {
   "cell_type": "markdown",
   "id": "9b57ea2f",
   "metadata": {},
   "source": [
    "# 1. Introduction\n",
    "\n",
    "## Introduction to PyAOS\n",
    "\n",
    "PyAOS (Python for Atmosphere and Ocean Science) is a suite of Python libraries. According to the definitions on [PyAOS official website](https://pyaos.github.io/), PyAOS is\n",
    "\n",
    "> Python libraries stack used by the AOS community. A group of programs that works in tandem to produce a result or achieve a common goal is often referred to as a software stack.\n",
    "\n",
    "In studies in the fields of atmospheric sciences, the most commonly used workflow is as follows: \n",
    "* reading datasets,\n",
    "* and/or numerical modeling,\n",
    "* statistical analysis,\n",
    "* visualization. \n",
    "\n",
    "![Data Science Workflow](https://d33wubrfki0l68.cloudfront.net/795c039ba2520455d833b4034befc8cf360a70ba/558a5/diagrams/data-science-explore.png)\n",
    "\n",
    "Source: Grolemund and Wickham (2016), *R For Data Science*.\n",
    "\n",
    "How can PyAOS packages help us to complete these tasks? First of all, we learn about the \"core libraries\" of PyAOS. In the figure below, the Python libraries in the dashed rectangle are the core libraries. The default package for simple arithmetic or statistical computation is **Numpy**. The package that deals with more complicated scientific or mathematical computation, such as calculus, is **Scipy**. For large dataset computation that needs parallel computation, it is common practice to use **Dask**. Dask, Numpy, and Scipy are well-integrated. After computation, the well-known package for visualization is **Matplotlib**. For meteorologists who often plot geographical maps, **Cartopy** is utilized to set the projection of maps. \n",
    "\n",
    "![PyAOS Core Libraries](https://pyaos.github.io/images/pyaos-stack.svg)\n",
    "\n",
    "Although the aforementioned packages are sufficient to complete our research, they are not best suited for atmospheric needs. Specifically, the fundamental functions in these libraries often require longer codes. To simplify the workflow and make coding more efficient, the PyAOS community developed advanced libraries for atmospheric science studies. These libraries include **xarray** and **iris**. In this workshop, we will focus on the usages and applications of xarray.\n"
   ]
  },
  {
   "cell_type": "markdown",
   "id": "d4d493ad",
   "metadata": {},
   "source": [
    "## Introduction to Xarray\n",
    "\n",
    "`xarray` was developed by Stephan Hoyer, Alex Kleeman, and Eugene Brevdo from The Climate Corporation. It was first released as an open-source project in 2014. From 2018, xarray was funded by NumFOCUS. Xarray was designed specifically for multi-dimensional arrays and datasets. The library integrates different functions including reading netCDF files, processing data, selecting and slicing datasets, statistical computation, and plotting. The integration of different functions into a single package greatly simplifies the workflow. \n",
    "\n",
    "Therefore, this tutorial will follow three steps: reading files, data analysis, and visualization. Using the xarray library as the core for data processing, statistical computation, and plotting, it introduces commonly used Python libraries and programming techniques from the perspective of climate analysis to establish a data analysis workflow. The purpose of this tutorial is not to establish a detailed guide on xarray, but to introduce the applications of xarray in climate studies based on real-world examples. To find the details on a certain function or module, please refer to the API on the [`xarray` official website](http://xarray.pydata.org/en/stable/index.html#).\n"
   ]
  },
  {
   "cell_type": "markdown",
   "id": "dd95553b",
   "metadata": {},
   "source": [
    "## Import Python Libraries\n",
    "\n",
    "To start a new Python code, it is required to import libraries. To do so, just add the following lines to an empty Python script (`example.py`). For instance,"
   ]
  },
  {
   "cell_type": "code",
   "execution_count": 1,
   "id": "a04bf0b3",
   "metadata": {},
   "outputs": [],
   "source": [
    "import numpy as np\n",
    "import xarray as xr \n",
    "from matplotlib import pyplot as plt"
   ]
  }
 ],
 "metadata": {
  "kernelspec": {
   "display_name": "Python 3.9.9 ('p3')",
   "language": "python",
   "name": "python3"
  },
  "language_info": {
   "codemirror_mode": {
    "name": "ipython",
    "version": 3
   },
   "file_extension": ".py",
   "mimetype": "text/x-python",
   "name": "python",
   "nbconvert_exporter": "python",
   "pygments_lexer": "ipython3",
   "version": "3.10.14"
  },
  "vscode": {
   "interpreter": {
    "hash": "8e905df1d4d920326545d879dea538d50859be77412bc9bf54949dad3bde9dd6"
   }
  }
 },
 "nbformat": 4,
 "nbformat_minor": 5
}