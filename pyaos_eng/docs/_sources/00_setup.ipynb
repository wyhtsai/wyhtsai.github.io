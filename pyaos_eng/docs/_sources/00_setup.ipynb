{
 "cells": [
  {
   "attachments": {},
   "cell_type": "markdown",
   "metadata": {},
   "source": [
    "# Python Installation and Environment Setup\n",
    "\n",
    "In this unit, we will learn how to install Python and packages using **Micromamba**, and how to use **Visual Studio Code (VS Code)** to write Python code. The tutorial will be based on MacOS or a remote Linux server."
   ]
  },
  {
   "attachments": {},
   "cell_type": "markdown",
   "metadata": {},
   "source": [
    "## Installing VS Code\n",
    "\n",
    "Visual Studio Code (VS Code) is a free **integrated development environment (IDE)** developed by Microsoft. VS Code supports writing code on a local computer or a remote server. In this section, we will learn how to install VS Code, add relevant extensions for Python, and start writing code.\n",
    "\n",
    "First, visit the [Visual Studio Code official website](https://code.visualstudio.com) to download and install VS Code.\n",
    "\n",
    "```{caution}\n",
    "VS Code now doesn't support old version of OS. For users on Tsubaki and Ume, please install the [November 2023 version](https://code.visualstudio.com/updates/v1_85), and turn off auto updates in VS Code. \n",
    "```\n",
    "\n",
    "After opening VS Code, click on \"Extensions\" in the sidebar, then search for and install the \"Python\" extension.\n",
    "\n",
    "![](images/fig0.2.png)\n",
    "\n",
    "![](images/fig0.3.png)\n"
   ]
  },
  {
   "cell_type": "markdown",
   "metadata": {},
   "source": [
    "## Connecting VS Code to a Remote Server\n",
    "\n",
    "First, install the \"**Remote Development**\" extension in VS Code. This extension allows you to open any folder on a remote machine using SSH and take advantage of VS Code’s full feature set.\n",
    "\n",
    "To connect to the remote server, use the following command in your terminal, replacing `<username>` with your actual username:\n",
    "\n",
    "```bash\n",
    "ssh <username>@tsubaki.som.nor.ou.edu\n",
    "```\n",
    "\n",
    "After entering your password, you should be successfully logged in to the server. Once connected, click \"Open...\" to select and open your working directory.\n",
    "\n",
    "![](images/fig0.4.png)\n",
    "\n",
    "### Setting Up SSH Key Authentication for Passwordless Login\n",
    "\n",
    "To simplify the login process and avoid entering your password each time you connect to the server, you can set up SSH key authentication. Follow these steps to configure it:\n",
    "\n",
    "1. **Generate an SSH Key Pair:**  \n",
    "   Open a terminal on your **local machine** and run the following command to generate a new SSH key pair:\n",
    "\n",
    "   ```bash\n",
    "   ssh-keygen -t rsa -b 4096 -C \"your_email@example.com\"\n",
    "   ```\n",
    "\n",
    "When prompted, you can press Enter to accept the default file location and leave the passphrase blank for convenience. This will create a private and a public key in the `~/.ssh` directory.\n",
    "\n",
    "1. **Copy the Public Key to the Remote Server:**  \n",
    "   Use the ssh-copy-id command to copy your public key to the remote server: (also execute on the **local machine**)\n",
    "\n",
    "   ```bash\n",
    "   ssh-copy-id <username>@tsubaki.som.nor.ou.edu\n",
    "   ```\n",
    "\n",
    "   Enter your password when prompted. This command appends your public key to the `~/.ssh/authorized_keys` file on the server.\n",
    "\n",
    "Now you should be able to connect without entering a password."
   ]
  },
  {
   "cell_type": "markdown",
   "metadata": {},
   "source": [
    "## Installing Micromamba\n",
    "\n",
    "Micromamba is a commonly used package manager. To install it, click on [Micromamba Installation](https://www.anaconda.com) and enter the following command in the **remote server** (e.g., on Tsubaki):\n",
    "\n",
    "```bash\n",
    "\"${SHELL}\" <(curl -L micro.mamba.pm/install.sh)\n",
    "```\n",
    "\n",
    "```{note}\n",
    "1. Although Conda is also common, Micromamba is more efficient. Additionally, the commands for installing Python packages are essentially the same. Therefore, I recommend using Micromamba instead of Conda.\n",
    "2. You can first connect to the remote server using VS Code and then open a terminal within VS Code.\n",
    "3. If you use a Mac, you can also install Micromamba in your local directory using the same method.\n",
    "```"
   ]
  },
  {
   "attachments": {},
   "cell_type": "markdown",
   "metadata": {},
   "source": [
    "## Installing PyAOS Packages\n",
    "\n",
    "After installing Micromamba, open a terminal. You will see `(base)` in the prompt because Micromamba installs some basic packages, and the default environment is named `base`. However, the base environment is not sufficient for PyAOS computations. Therefore, we need to create a new environment for PyAOS. The following command includes the installation processes and a list of the packages that will be used in this workshop. Please copy the command, paste it into the terminal, and execute it.\n",
    "\n",
    "```bash\n",
    "micromamba create -n p3 -c conda-forge ipython numpy metpy scipy netCDF4 cfgrib matplotlib eofs xeofs cartopy nco cdo python-cdo xarray cfgrib pandas seaborn cmaps scikit-learn dask bottleneck jupyter notebook pip bpytop flox esmpy xesmf python=3.10\n",
    "```\n",
    "\n",
    "```{caution}\n",
    "Always re-create the Micromamba environment by executing the above command when installing or updating libraries to avoid version conflicts.\n",
    "```\n",
    "\n",
    "```{note}\n",
    "`p3` is the name of the new micromamba environment. You are welcome to rename it. \n",
    "```\n",
    "\n",
    "Then activate the `p3` encironment by executing \n",
    "\n",
    "```bash\n",
    "micromamba activate p3\n",
    "```"
   ]
  },
  {
   "attachments": {},
   "cell_type": "markdown",
   "metadata": {},
   "source": [
    "## Writing Code with VS Code\n",
    "\n",
    "There are two common types of script files you can write:\n",
    "\n",
    "- `.py` is a Python script file. Python will execute the entire script line by line.\n",
    "- `.ipynb` is a **Jupyter Notebook** format. It provides an interactive interface where code is separated into **cells**, and each cell can be executed independently. Variables defined in one cell can be used in other cells.\n",
    "\n",
    "To start writing code, open a working folder in \"Explorer.\"\n",
    "\n",
    "![Explorer](images/fig0.4.png)\n",
    "\n",
    "Right-click (or double-click on Mac) in the Explorer pane to create a new file. Make sure to specify the file extension as `.py` or `.ipynb`.\n",
    "\n",
    "![Create a New File](images/fig0.5.png)\n"
   ]
  },
  {
   "attachments": {},
   "cell_type": "markdown",
   "metadata": {},
   "source": [
    "## Writing a Test Code\n",
    "\n",
    "**Example 1:** Import `xarray` and print its version.\n",
    "\n",
    "First, create a new file named `test.py` or `test.ipynb`, then copy and paste the following code into it."
   ]
  },
  {
   "cell_type": "code",
   "execution_count": 2,
   "metadata": {},
   "outputs": [
    {
     "name": "stdout",
     "output_type": "stream",
     "text": [
      "Xarray version: 2024.6.0\n"
     ]
    }
   ],
   "source": [
    "import xarray as xr\n",
    "print('Xarray version: ' + xr.__version__)"
   ]
  },
  {
   "attachments": {},
   "cell_type": "markdown",
   "metadata": {},
   "source": [
    "To run the script, follow these steps:\n",
    "\n",
    "1. **For Python Scripts (.py):**\n",
    "   - In VS Code, navigate to the top menu and click on **\"Run\"**.\n",
    "   - Select **\"Run Without Debugging\"** from the dropdown menu. This will execute your script without entering debug mode.\n",
    "   - Alternatively, you can use the shortcut **Ctrl + F5** (Windows/Linux) or **Cmd + F5** (Mac) to run the script quickly.\n",
    "\n",
    "2. **For Jupyter Notebooks (.ipynb):**\n",
    "   - Click on the \"▷\" play button located on the left side of the Jupyter Notebook cell to run the specific cell.\n",
    "   - If this is the first time running a Jupyter Notebook in this environment, you may be prompted to select a Python kernel. Choose the `p3` Python kernel that we just installed.\n",
    "   - You can run all cells sequentially by clicking **\"Run All Cells\"** in the toolbar at the top.\n",
    "\n",
    "By following these steps, you'll be able to execute your test code and see the output directly in the terminal or notebook interface.\n"
   ]
  },
  {
   "attachments": {},
   "cell_type": "markdown",
   "metadata": {},
   "source": [
    "## Checking Package Versions\n",
    "\n",
    "To avoid compatibility issues, it is recommended to check the versions of the packages before starting. Example 1 in this chapter demonstrates how to check package versions in Python. The version is stored in the `__version__` attribute, so you can print it to check."
   ]
  },
  {
   "cell_type": "code",
   "execution_count": 1,
   "metadata": {},
   "outputs": [
    {
     "name": "stdout",
     "output_type": "stream",
     "text": [
      "Xarray version: 2024.6.0\n",
      "Numpy version: 1.26.4\n",
      "Cartopy version: 0.23.0\n"
     ]
    }
   ],
   "source": [
    "import xarray as xr \n",
    "import numpy as np \n",
    "import cartopy \n",
    "\n",
    "print(\"Xarray version: \" + xr.__version__)\n",
    "print(\"Numpy version: \" + np.__version__)\n",
    "print(\"Cartopy version: \" + cartopy.__version__)"
   ]
  },
  {
   "attachments": {},
   "cell_type": "markdown",
   "metadata": {},
   "source": [
    "## Summary\n",
    "\n",
    "For convenience, this guide focuses only on writing and executing Python scripts or Jupyter Notebooks using Micromamba and VS Code. There are many other tools available for coding, but with the computation environment set up, we are now ready to start learning how to write code for PyAOS analysis!"
   ]
  }
 ],
 "metadata": {
  "interpreter": {
   "hash": "8e905df1d4d920326545d879dea538d50859be77412bc9bf54949dad3bde9dd6"
  },
  "kernelspec": {
   "display_name": "Python 3 (ipykernel)",
   "language": "python",
   "name": "python3"
  },
  "language_info": {
   "codemirror_mode": {
    "name": "ipython",
    "version": 3
   },
   "file_extension": ".py",
   "mimetype": "text/x-python",
   "name": "python",
   "nbconvert_exporter": "python",
   "pygments_lexer": "ipython3",
   "version": "3.10.14"
  }
 },
 "nbformat": 4,
 "nbformat_minor": 2
}
