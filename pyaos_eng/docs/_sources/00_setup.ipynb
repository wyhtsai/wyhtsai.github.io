{
 "cells": [
  {
   "attachments": {},
   "cell_type": "markdown",
   "metadata": {},
   "source": [
    "# Python Installation and Environment Setup\n",
    "\n",
    "In this unit, we will learn how to install Python and packages using **Micromamba**, and how to use **Visual Studio Code (VS Code)** to write Python code. The tutorial will be based on MacOS or a remote Linux server."
   ]
  },
  {
   "attachments": {},
   "cell_type": "markdown",
   "metadata": {},
   "source": [
    "## 安裝VS Code\n",
    "\n",
    "Visual Studio Code (簡稱VS Code) 是一款由微軟開發且跨平台的免費整合式開發環境。該軟體支援在本機上撰寫本機或遠端工作站的各式程式，支援程式碼上色、補齊等編輯功能，還內建終端機，能夠在VS Code上呼叫核心來執行本機或遠端的程式碼，是相當強大的開發工具。接下來將示範如何以VS Code安裝所需要的Python套件，以及撰寫程式，請點入[Visual Studio Code官方網站](https://code.visualstudio.com)下載並安裝VS Code。\n",
    "\n",
    "下載後打開VS Code，點選「延伸模組」按鈕。\n",
    "\n",
    "![](images/fig0.2.png)\n",
    "\n",
    "在搜尋欄輸入Python，選擇後按安裝。\n"
   ]
  },
  {
   "cell_type": "markdown",
   "metadata": {},
   "source": [
    "## 安裝Micromamba\n",
    "Anaconda 是常用的Python套件管理軟體，優點是擁有大量的Python套件，且容易安裝和學習。請先進入 [Mamba官方網站](https://www.anaconda.com)，在 Installation / Micromamba / Mamba-org releases / Install script 的子節，複製安裝的shell script程式碼到自己的終端機上安裝，即\n",
    "\n",
    "~~~\n",
    "\"${SHELL}\" <(curl -L micro.mamba.pm/install.sh)\n",
    "~~~\n",
    "\n",
    "```{note}\n",
    "一般也很常使用conda作為套件管理軟體，但Mamba在初始解析環境、檢查套件相容性時，有極高的效率，且所有操作幾乎都和conda一樣，因此在此推薦使用mamba來安裝Python。\n",
    "```"
   ]
  },
  {
   "attachments": {},
   "cell_type": "markdown",
   "metadata": {},
   "source": [
    "## 安裝PyAOS所需Python套件庫\n",
    "\n",
    "安裝好Micromamba後，請打開終端機。\n",
    "- 可以直接使用Mac內建終端機。這時會發現多了`(base)`字樣，這是因為Micromamba會自動安裝一些基本套件，這個套件環境預設稱為base。然而Micromamba預設安裝好的base套件不能滿足我們進行PyAOS運算的環境，因此要額外安裝套件。接下來我們安裝PyAOS需要的套件，請將以下指令複製到終端機並執行：\n",
    "\n",
    "~~~\n",
    "micromamba create -n p3 -c conda-forge ipython numpy metpy scipy netCDF4 cfgrib matplotlib eofs xeofs cartopy nco cdo python-cdo xarray cfgrib pandas seaborn cmaps scikit-learn dask bottleneck jupyter notebook pip bpytop flox esmpy xesmf python=3.10\n",
    "~~~\n",
    "\n",
    "```{caution}\n",
    "Always re-create the Micromamba environment by executing the above command when installing or updating libraries to avoid version conflicts.\n",
    "```\n",
    "\n",
    "```{note}\n",
    "`p3`是這個新的conda環境的名稱，也可以自己取新的名稱。\n",
    "```"
   ]
  },
  {
   "attachments": {},
   "cell_type": "markdown",
   "metadata": {},
   "source": [
    "## 用Visual Studio Code撰寫程式\n",
    "\n",
    "撰寫Python程式，按照檔名可區分為\n",
    "- `.py`：屬於Python程式的scipt，也就是把完整的程式寫好了以後，由Python逐行執行。\n",
    "- `.ipynb`：為Jupyter Notebook的格式，是互動式的程式介面，以窗格 (cell) 為單位，逐格執行Python程式。\n",
    "\n",
    "而工具的部分也有很多種，\n",
    "- Vim editor: 在終端機直接用vim開啟一個新檔案，就可以編寫程式。例如：\n",
    "   ```\n",
    "   vi test.py\n",
    "   ```\n",
    "- Visual Studio Code (可以撰寫.py或.ipynb檔案)\n",
    "- Jupyter Notebook (撰寫.ipynb檔案，互動式介面)。Anaconda的Home可以直接呼叫Jupyter Notebook介面。\n",
    "\n",
    "點選「檔案總管」按鈕，按「開啟資料夾」按鈕來選擇一個存放程式碼的資料夾位置，以後就可以在這裡寫程式。\n",
    "\n",
    "![](images/fig0.4.png)\n",
    "\n",
    "在檔案總管資料夾中，右鍵 (兩指點按) 並選擇「新增檔案」，或是在最上方選單列「檔案→新增檔案」。注意python的檔案要以.py作為副檔名，就可以撰寫程式了。\n",
    "\n",
    "![](images/fig0.5.png)"
   ]
  },
  {
   "attachments": {},
   "cell_type": "markdown",
   "metadata": {},
   "source": [
    "## 撰寫測試程式\n",
    "\n",
    "**Example 1:** 請用import將xarray套件輸入，並且印出xarray套件的版本資訊。"
   ]
  },
  {
   "cell_type": "code",
   "execution_count": 1,
   "metadata": {},
   "outputs": [
    {
     "name": "stdout",
     "output_type": "stream",
     "text": [
      "Xarray version: 2023.11.0\n"
     ]
    }
   ],
   "source": [
    "import xarray as xr\n",
    "print('Xarray version: ' + xr.__version__)"
   ]
  },
  {
   "attachments": {},
   "cell_type": "markdown",
   "metadata": {},
   "source": [
    "在最上方選單列選「執行」→「啟動偵錯」，或是在左側選擇「執行與偵錯」選單，偵錯設定檔選擇「Python檔案」，在「選取核心」窗格點選剛剛安裝的conda環境「p3」，接著就會開始偵錯並執行了。\n",
    "\n",
    "![](images/fig0.6.png)"
   ]
  },
  {
   "attachments": {},
   "cell_type": "markdown",
   "metadata": {},
   "source": [
    "## Jupyter Notebook\n",
    "\n",
    "Jupyter Notebook是在網頁上操作的Python互動性介面，可以開啟窗格 (cells) 寫筆記、註解、撰寫程式，程式也可以按照個人需求分段撰寫和執行。\n",
    "\n",
    "在VS Code 工作資料夾下新增一個`test.ipynb`的檔案。注意Jupyter Notebook的副檔名為`.ipynb`。\n",
    "\n",
    "請在VS Code中按「+程式碼」，然後撰寫跟剛剛一樣的測試程式，並且按儲存格 (Cell) 旁邊的「執行」按鈕。接著會跳出一個視窗，詢問ipynb檔案的核心，請選擇`p3`的核心，按一下就會開始執行了。\n",
    "\n",
    "![](images/fig0.10.png)"
   ]
  },
  {
   "attachments": {},
   "cell_type": "markdown",
   "metadata": {},
   "source": [
    "## 套件版本檢查\n",
    "\n",
    "為了避免版本不相容，因此在開始閱讀本文前，建議先檢查各個套件的版本。本章的Example 1就是Python檢查套件的版本的方式，版本是以`__version__`這個attribute中儲存，因此可以print出來檢查。"
   ]
  },
  {
   "cell_type": "code",
   "execution_count": 2,
   "metadata": {},
   "outputs": [
    {
     "name": "stdout",
     "output_type": "stream",
     "text": [
      "Xarray version: 2023.11.0\n",
      "Numpy version: 1.26.2\n",
      "Cartopy version: 0.22.0\n"
     ]
    }
   ],
   "source": [
    "import xarray as xr \n",
    "import numpy as np \n",
    "import cartopy \n",
    "\n",
    "print(\"Xarray version: \" + xr.__version__)\n",
    "print(\"Numpy version: \" + np.__version__)\n",
    "print(\"Cartopy version: \" + cartopy.__version__)"
   ]
  },
  {
   "attachments": {},
   "cell_type": "markdown",
   "metadata": {},
   "source": [
    "## 小結\n",
    "\n",
    "以上的方法都是幫助我們方便地撰寫和執行Python程式，當然還有很多不同的方法、執行工具，可以再探索和熟悉。現在，Python運算環境設置好，接著就可以開始學習用PyAOS寫程式了。"
   ]
  }
 ],
 "metadata": {
  "interpreter": {
   "hash": "8e905df1d4d920326545d879dea538d50859be77412bc9bf54949dad3bde9dd6"
  },
  "kernelspec": {
   "display_name": "Python 3 (ipykernel)",
   "language": "python",
   "name": "python3"
  },
  "language_info": {
   "codemirror_mode": {
    "name": "ipython",
    "version": 3
   },
   "file_extension": ".py",
   "mimetype": "text/x-python",
   "name": "python",
   "nbconvert_exporter": "python",
   "pygments_lexer": "ipython3",
   "version": "3.10.13"
  }
 },
 "nbformat": 4,
 "nbformat_minor": 2
}
