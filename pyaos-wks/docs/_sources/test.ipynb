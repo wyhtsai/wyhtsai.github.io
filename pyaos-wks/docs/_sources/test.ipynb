{
 "cells": [
  {
   "cell_type": "code",
   "execution_count": null,
   "metadata": {},
   "outputs": [],
   "source": [
    "import xarray as xr \n",
    "\n",
    "ds = xr.open_dataset('/data')"
   ]
  },
  {
   "cell_type": "code",
   "execution_count": null,
   "metadata": {},
   "outputs": [],
   "source": [
    "uds = (xr.open_mfdataset( 'data/ncep_r2_uv850/u850.*.nc',    # 檔案名稱\n",
    "                           combine = \"by_coords\",               \n",
    "                           parallel=True                     # 運用dask平行運算，提高運算效率\n",
    "                         ))       \n",
    "uds"
   ]
  }
 ],
 "metadata": {
  "language_info": {
   "name": "python"
  },
  "orig_nbformat": 4
 },
 "nbformat": 4,
 "nbformat_minor": 2
}
