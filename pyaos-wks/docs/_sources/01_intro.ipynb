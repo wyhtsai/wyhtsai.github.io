{
 "cells": [
  {
   "cell_type": "markdown",
   "id": "9b57ea2f",
   "metadata": {},
   "source": [
    "# 1. 導論\n",
    "\n",
    "## PyAOS簡介\n",
    "\n",
    "PyAOS是一套Python的程式套件，按照[PyAOS官方網站](https://pyaos.github.io/)的定義，PyAOS是\n",
    "> Python libraries stack used by the AOS community. A group of programs that works in tandem to produce a result or achieve a common goal is often referred to as a software stack.\n",
    "\n",
    "在大氣科學研究中，我們常用的程式邏輯就是\n",
    "* 讀取資料\n",
    "* 統計與分析\n",
    "* 模式模擬\n",
    "* 視覺化\n",
    "\n",
    "![](https://d33wubrfki0l68.cloudfront.net/795c039ba2520455d833b4034befc8cf360a70ba/558a5/diagrams/data-science-explore.png)\n",
    "\n",
    "Source: Grolemund and Wickham (2016), *R For Data Science*.\n",
    "\n",
    "那PyAOS套件怎麼幫助我們完成以上的事情呢？我們先從PyAOS的核心套件(core libraries)認識起。下圖中，虛線框框中的Python套件就是PyAOS的核心，預設用來處理數值計算與簡單的統計的套件是**Numpy**，而用來處理比較複雜的科學、數學運算的則是**Scipy** (例如微積分等)。如果進行大量運算或大型資料處理，需要用到平行運算時，則預設使用**Dask**，Dask和Numpy和Scipy都有很好的整合。分析資料後，將資料視覺化的套件首選則是**Matplotlib**，而在大氣科學中常常需要用**Cartopy**繪製地圖以及調整圖的投影。\n",
    "\n",
    "![](https://pyaos.github.io/images/pyaos-stack.svg)\n",
    "\n",
    "然而，以上的幾個套件雖然就可以幫助我們完成研究，用起來也彈性，但也因為功能較為基礎，簡單的工作可能就需要寫比較長的程式碼。為了讓這些工作可以簡化，Python社群就開發了高階的套件，雖然彈性可能沒那麼大，但是可以完成很多事情，讓科學家的研究工作變得更有效率。這些高階的PyAOS套件包含xarray、iris等。本次的工作坊會以xarray為學習的主軸。\n"
   ]
  },
  {
   "cell_type": "markdown",
   "id": "d4d493ad",
   "metadata": {},
   "source": [
    "## xarray簡介\n",
    "\n",
    "`xarray`是由The Climate Corporation的科學家Stephan Hoyer、Alex Kleeman、Eugene Brevdo開發的工具，2014年以開放取用資源的方式釋出，2018年起由NumFOCUS贊助。這套工具專門為多維陣列的資料所設計，用以讀取netCDF資料、進行資料處理、範圍選取、統計運算和繪圖，並且把這些功能整合在一起，使得工作流程變得簡潔流暢。\n",
    "\n",
    "因此，本文將按照讀檔、資料分析、視覺化三個步驟，以`xarray`函式庫為主要資料處理、統計計算和繪圖的核心，以氣候分析的角度介紹常使用的Python函式庫以及程式技巧，以建立資料分析流程。本文的目的不在建立一個嚴謹的`xarray`使用說明，而是從氣候分析的實例出發，說明`xarray`的用法，因此若需要函數或引數的相關細節，請參見[`xarray`網頁](http://xarray.pydata.org/en/stable/index.html#)。\n",
    "\n",
    "**小提示：** 如果對Python的基本指令還不熟悉 (e.g. 變數種類、變數定義、if分支結構、for迴圈、函數/副程式⋯⋯等)，可以先上網站搜尋入門教學，再來學習本文的內容喔！(例如：[一小時Python入門網頁](https://kopu.chat/2017/01/18/%E4%B8%80%E5%B0%8F%E6%99%82python%E5%85%A5%E9%96%80-part-1/)，其實網路上資源非常多也容易讀)"
   ]
  },
  {
   "cell_type": "markdown",
   "id": "dd95553b",
   "metadata": {},
   "source": [
    "## 引入函式庫\n",
    "\n",
    "在本文中，需要的函式庫有 `numpy`、`xarray`、`matplotlib`......等，在空白的Python程式 (副檔名.py) 加入以下指令，就可以引入所需要的資源庫。例如："
   ]
  },
  {
   "cell_type": "code",
   "execution_count": 1,
   "id": "a04bf0b3",
   "metadata": {},
   "outputs": [],
   "source": [
    "import numpy as np\n",
    "import xarray as xr \n",
    "from matplotlib import pyplot as plt"
   ]
  }
 ],
 "metadata": {
  "kernelspec": {
   "display_name": "Python 3.9.9 64-bit ('p3': conda)",
   "language": "python",
   "name": "python399jvsc74a57bd08e905df1d4d920326545d879dea538d50859be77412bc9bf54949dad3bde9dd6"
  },
  "language_info": {
   "codemirror_mode": {
    "name": "ipython",
    "version": 3
   },
   "file_extension": ".py",
   "mimetype": "text/x-python",
   "name": "python",
   "nbconvert_exporter": "python",
   "pygments_lexer": "ipython3",
   "version": "3.9.9"
  }
 },
 "nbformat": 4,
 "nbformat_minor": 5
}
