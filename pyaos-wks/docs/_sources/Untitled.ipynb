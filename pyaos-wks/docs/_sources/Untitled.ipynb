{
 "cells": [
  {
   "cell_type": "markdown",
   "id": "a9dac146",
   "metadata": {},
   "source": [
    "# 馬登－朱利安震盪 (MJO) 氣候變異分析"
   ]
  },
  {
   "cell_type": "markdown",
   "id": "c7f95672",
   "metadata": {},
   "source": [
    "## MJO相位圖 (Phase diagram)\n",
    "\n",
    "先自己寫一個函數，繪製MJO相位圖的背景。"
   ]
  },
  {
   "cell_type": "code",
   "execution_count": 1,
   "id": "c277e6bf",
   "metadata": {},
   "outputs": [],
   "source": [
    "def plot_mjo_phase(nrow, ncol, figsize):\n",
    "    fig, axes = plt.subplots(nrow,ncol,figsize=figsize) \n",
    "    ax = axes.flatten()\n",
    "    \n",
    "    for i in range(0, (ncol*nrow)): \n",
    "        ax[i].set_xlim(-4,4)\n",
    "        ax[i].set_ylim(-4,4)\n",
    "        ax[i].set_xticks(range(-4,5))\n",
    "        ax[i].set_yticks(range(-4,5))\n",
    "\n",
    "        # plot mjo phase diagram lines\n",
    "        line1 = lines.Line2D([np.cos(np.pi/4), 4], [np.sin(np.pi/4), 4], color='black', linestyle='--', lw=1)\n",
    "        ax[i].add_line(line1)\n",
    "        \n",
    "        line2 = lines.Line2D([np.cos(3*np.pi/4), -4], [np.sin(np.pi/4), 4], color='black', linestyle='--', lw=1)\n",
    "        ax[i].add_line(line2)\n",
    "        \n",
    "        line3 = lines.Line2D([np.cos(np.pi/4), 4], [np.sin(7*np.pi/4), -4], color='black', linestyle='--', lw=1)\n",
    "        ax[i].add_line(line3)\n",
    "        \n",
    "        line4 = lines.Line2D([np.cos(3*np.pi/4), -4], [np.sin(7*np.pi/4), -4], color='black', linestyle='--', lw=1)\n",
    "        ax[i].add_line(line4)\n",
    "        \n",
    "        line5 = lines.Line2D([-4, -1], [0, 0], color='black', linestyle='--', lw=1)\n",
    "        ax[i].add_line(line5)\n",
    "        \n",
    "        line6 = lines.Line2D([1, 4], [0, 0], color='black', linestyle='--', lw=1)\n",
    "        ax[i].add_line(line6)\n",
    "        \n",
    "        line7 = lines.Line2D([0, 0], [1, 4], color='black', linestyle='--', lw=1)\n",
    "        ax[i].add_line(line7)\n",
    "        \n",
    "        line8 = lines.Line2D([0, 0], [-1, -4], color='black', linestyle='--', lw=1)\n",
    "        ax[i].add_line(line8)\n",
    "        \n",
    "        amp1_circ = plt.Circle((0, 0), 1, color='black', fill=False)\n",
    "        ax[i].add_patch(amp1_circ)\n",
    "        \n",
    "        # add phase diagram texts\n",
    "        ax[i].text( 1,3,'Phase 6', size='x-large', weight='semibold')\n",
    "        ax[i].text(-2,3,'Phase 7', size='x-large', weight='semibold')\n",
    "        ax[i].text(2.8,1  ,'Phase 5', size='x-large', weight='semibold', ha='center')\n",
    "        ax[i].text(-2.8,1  ,'Phase 8', size='x-large', weight='semibold', ha='center')\n",
    "        \n",
    "        ax[i].text( 1,-3,'Phase 3', size='x-large', weight='semibold')\n",
    "        ax[i].text(-2,-3,'Phase 2', size='x-large', weight='semibold')\n",
    "        ax[i].text(2.8,-1  ,'Phase 4', size='x-large', weight='semibold', ha='center')\n",
    "        ax[i].text(-2.8,-1  ,'Phase 1', size='x-large', weight='semibold', ha='center')\n",
    "        \n",
    "        ax[i].text( 0,3.7,'Pacific Ocean', ha='center', bbox=dict(facecolor='white', edgecolor='white'))\n",
    "        ax[i].text( 0,-3.8,'Indian Ocean', ha='center', bbox=dict(facecolor='white', edgecolor='white'))\n",
    "        ax[i].text(-3.8,0,'West. Hem., Africa', va='center', rotation='vertical', bbox=dict(facecolor='white', edgecolor='white'))\n",
    "        ax[i].text(3.7,0,'Maritime Continent', va='center', rotation='vertical', bbox=dict(facecolor='white', edgecolor='white'))\n",
    "        \n",
    "        ax[i].set_xlabel('RMM1')\n",
    "        ax[i].set_ylabel('RMM2')\n",
    "\n",
    "    return fig, axes"
   ]
  },
  {
   "cell_type": "markdown",
   "id": "46761932",
   "metadata": {},
   "source": [
    "相位圖的橫軸是RMM1，縱軸是RMM2，所以將資料點在相位圖上可以利用`xarray.plot.Dataset.scatter()`，繪圖前必須將RMM1和RMM2存成`xarray.Dataset`。"
   ]
  },
  {
   "cell_type": "code",
   "execution_count": null,
   "id": "ba8529e1",
   "metadata": {},
   "outputs": [],
   "source": []
  }
 ],
 "metadata": {
  "kernelspec": {
   "display_name": "Python 3 (ipykernel)",
   "language": "python",
   "name": "python3"
  },
  "language_info": {
   "codemirror_mode": {
    "name": "ipython",
    "version": 3
   },
   "file_extension": ".py",
   "mimetype": "text/x-python",
   "name": "python",
   "nbconvert_exporter": "python",
   "pygments_lexer": "ipython3",
   "version": "3.9.9"
  }
 },
 "nbformat": 4,
 "nbformat_minor": 5
}
