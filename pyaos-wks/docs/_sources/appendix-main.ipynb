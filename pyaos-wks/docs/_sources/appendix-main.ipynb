{
 "cells": [
  {
   "cell_type": "markdown",
   "id": "f254905d",
   "metadata": {},
   "source": [
    "# 附錄：實用氣候分析程式範例\n",
    "\n",
    "在附錄中我們列舉一些實用的程式範例，提供大家參考。(陸續更新中⋯⋯)\n",
    "\n",
    "- [Lanczos 時間序列帶通濾波 (Bandpass Filter)](https://wyhtsai.github.io/pyaos-wks/docs/A3_bandpass_filter.html)。\n",
    "- [MJO相位圖 (phase diagram)](https://wyhtsai.github.io/pyaos-wks/docs/A1_mjo_phase.html)。\n",
    "- [利用`besttracks`套件讀取颱風資料並繪製路徑](https://wyhtsai.github.io/pyaos-wks/docs/A2_besttracks.html)。"
   ]
  }
 ],
 "metadata": {
  "kernelspec": {
   "display_name": "Python 3 (ipykernel)",
   "language": "python",
   "name": "python3"
  },
  "language_info": {
   "codemirror_mode": {
    "name": "ipython",
    "version": 3
   },
   "file_extension": ".py",
   "mimetype": "text/x-python",
   "name": "python",
   "nbconvert_exporter": "python",
   "pygments_lexer": "ipython3",
   "version": "3.9.9"
  }
 },
 "nbformat": 4,
 "nbformat_minor": 5
}
