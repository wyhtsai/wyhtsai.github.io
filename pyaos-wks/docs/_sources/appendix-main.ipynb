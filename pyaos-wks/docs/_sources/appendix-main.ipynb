{
 "cells": [
  {
   "cell_type": "markdown",
   "id": "f254905d",
   "metadata": {},
   "source": [
    "# 附錄：實用氣候分析程式範例\n",
    "\n",
    "在附錄中我們列舉一些實用的氣候分析用的程式範例，提供大家參考。(陸續更新中⋯⋯)\n",
    "\n",
    "## 馬登－朱利安震盪 (MJO) 氣候變異分析\n",
    "\n",
    "- MJO相位圖 (phase diagram)"
   ]
  }
 ],
 "metadata": {
  "kernelspec": {
   "display_name": "Python 3 (ipykernel)",
   "language": "python",
   "name": "python3"
  },
  "language_info": {
   "codemirror_mode": {
    "name": "ipython",
    "version": 3
   },
   "file_extension": ".py",
   "mimetype": "text/x-python",
   "name": "python",
   "nbconvert_exporter": "python",
   "pygments_lexer": "ipython3",
   "version": "3.9.9"
  }
 },
 "nbformat": 4,
 "nbformat_minor": 5
}
