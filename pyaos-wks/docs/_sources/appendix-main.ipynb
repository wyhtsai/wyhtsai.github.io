{
 "cells": [
  {
   "attachments": {},
   "cell_type": "markdown",
   "id": "f254905d",
   "metadata": {},
   "source": [
    "# 附錄：實用氣候分析程式範例\n",
    "\n",
    "在附錄中我們列舉一些實用的程式範例，提供大家參考。(陸續更新中⋯⋯)\n",
    "\n",
    "- [不規則形狀的網格選擇](https://wyhtsai.github.io/pyaos-wks/docs/A4_ireg_grid_sel.html)\n",
    "- [利用`besttracks`套件讀取颱風資料並繪製路徑](https://wyhtsai.github.io/pyaos-wks/docs/A2_besttracks.html)。\n",
    "\n",
    "## 氣候變異分析\n",
    "- [利用NCL做頻譜分析](https://wyhtsai.github.io/pyaos-wks/docs/power_spec.html)\n",
    "- [Lanczos 時間序列帶通濾波 (Bandpass Filter)](https://wyhtsai.github.io/pyaos-wks/docs/A3_bandpass_filter.html)。\n",
    "- [MJO相位圖 (phase diagram)](https://wyhtsai.github.io/pyaos-wks/docs/A1_mjo_phase.html)。\n",
    "- [MJO相位合成分析及統計檢定](https://wyhtsai.github.io/pyaos-wks/docs/A1_mjo_phase.html#mjo-composite)。\n",
    "- [熱帶波動判識與分析](https://wyhtsai.github.io/pyaos-wks/docs/A6_tropical_waves.html)。\n"
   ]
  }
 ],
 "metadata": {
  "kernelspec": {
   "display_name": "p3",
   "language": "python",
   "name": "python3"
  },
  "language_info": {
   "codemirror_mode": {
    "name": "ipython",
    "version": 3
   },
   "file_extension": ".py",
   "mimetype": "text/x-python",
   "name": "python",
   "nbconvert_exporter": "python",
   "pygments_lexer": "ipython3",
   "version": "3.10.10"
  },
  "vscode": {
   "interpreter": {
    "hash": "8e905df1d4d920326545d879dea538d50859be77412bc9bf54949dad3bde9dd6"
   }
  }
 },
 "nbformat": 4,
 "nbformat_minor": 5
}
